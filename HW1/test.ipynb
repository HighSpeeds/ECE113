{
 "cells": [
  {
   "cell_type": "code",
   "execution_count": 7,
   "metadata": {},
   "outputs": [
    {
     "name": "stdout",
     "output_type": "stream",
     "text": [
      "n=10 for i=0.6\n"
     ]
    }
   ],
   "source": [
    "import numpy as np\n",
    "\n",
    "for i in [0.6]:\n",
    "    n=1\n",
    "    while (i*n)%2!=0:\n",
    "        n+=1\n",
    "    print(f\"n={n} for i={i}\")"
   ]
  },
  {
   "cell_type": "code",
   "execution_count": null,
   "metadata": {},
   "outputs": [],
   "source": []
  }
 ],
 "metadata": {
  "kernelspec": {
   "display_name": "Python 3.9.12 ('base')",
   "language": "python",
   "name": "python3"
  },
  "language_info": {
   "codemirror_mode": {
    "name": "ipython",
    "version": 3
   },
   "file_extension": ".py",
   "mimetype": "text/x-python",
   "name": "python",
   "nbconvert_exporter": "python",
   "pygments_lexer": "ipython3",
   "version": "3.9.12"
  },
  "orig_nbformat": 4,
  "vscode": {
   "interpreter": {
    "hash": "19e89d5353d4146e62317e49268a945e919fb3369eb7ce1f38db2346a403f5a4"
   }
  }
 },
 "nbformat": 4,
 "nbformat_minor": 2
}
